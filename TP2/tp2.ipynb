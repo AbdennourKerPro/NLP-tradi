{
 "cells": [
  {
   "cell_type": "markdown",
   "metadata": {},
   "source": [
    "# **TP 2 Hidden Markov Model** \n",
    "## E-Mail Segmentation\n",
    "### _**Abdennour Kerboua**_"
   ]
  },
  {
   "cell_type": "markdown",
   "metadata": {},
   "source": [
    "### Task : automatic segmentation of mails, problem statement"
   ]
  },
  {
   "cell_type": "markdown",
   "metadata": {},
   "source": [
    "$\\renewcommand{\\P}{\\mathbb{P}}$"
   ]
  },
  {
   "cell_type": "markdown",
   "metadata": {},
   "source": [
    "### **Question 1**\n",
    "\n",
    "\n",
    "An e-mail necessarily starts with the header. It follows : $\\P(q_0 = \\text{header}) = 1$ and then $\\P(q_0 = \\text{body}) = 1 - \\P(q_0 = \\text{header}) = 0$\n",
    "\n",
    "We can then compute $\\pi$ : $$\\pi = \\begin{bmatrix}\\P(q_0 = \\text{header}) \\\\ \\P(q_0 = \\text{body}) \\end{bmatrix} = \\begin{bmatrix}1\\\\ 0\\end{bmatrix} $$"
   ]
  },
  {
   "cell_type": "markdown",
   "metadata": {},
   "source": [
    "### **Question 2**\n",
    "\n",
    "The transition matrix is given by : $$A =\\begin{bmatrix} 0.999218078035812 & 0.000781921964187974 \\\\ 0 & 1 \\end{bmatrix}$$\n",
    "\n",
    "Hence, the probability of switching from the first state to the second is given by : $$P(2 \\mid 1) = A_{12} = 0.000781921964187974 $$ and of staying in state 2 by : $$P(2 \\mid 2) = A_{22} = 1$$ The highest probability is the one of staying in the state 2 ($P(2\\mid 2) = 1$) which makes sense : reaching the body means the header has ended so we inevitably stay in the body. The lowest probability is the one of switching from the second to the first which is null for the same reason explained before ($P(1\\mid 2) = A_{21} =  0$).\n"
   ]
  },
  {
   "cell_type": "markdown",
   "metadata": {},
   "source": [
    "### **Question 3**\n",
    "\n",
    "Let $N$ be the number of different characters. \n",
    "\n",
    "The observation matrix given by $$B = [P(c_i,s)]_{(i,s) \\in \\llbracket 1,N\\rrbracket \\times \\{0,1\\}}$$ of size $N \\times 2$ (column $s$ gives the distribution of characters knowing the position in the state $s$)."
   ]
  },
  {
   "cell_type": "code",
   "execution_count": 1,
   "metadata": {},
   "outputs": [],
   "source": [
    "import numpy as np"
   ]
  },
  {
   "cell_type": "code",
   "execution_count": null,
   "metadata": {},
   "outputs": [],
   "source": [
    "# Load parameters\n",
    "B = np.loadtxt('distribution/P.text')\n",
    "A = np.array([[0.999218, 0.000782],[0, 1]])\n",
    "pi = np.array([1,0])\n",
    "\n",
    "# Load data\n",
    "mails = []\n",
    "for i in range(1,31):\n",
    "    mails.append(np.loadtxt('dat/mail{}.dat'.format(i)).astype(int))"
   ]
  },
  {
   "cell_type": "code",
   "execution_count": 155,
   "metadata": {},
   "outputs": [],
   "source": [
    "def Viterbi(obs, A, B, pi):\n",
    "    Q = len(A)\n",
    "    T = len(obs)\n",
    "    small = 1e-10\n",
    "    A = np.log(A + small)\n",
    "    B = np.log(B + small)\n",
    "    pi = np.log(pi + small)\n",
    "    delta = np.zeros((Q, T))\n",
    "    psi = np.zeros((Q, T))\n",
    "    q = np.zeros(T)\n",
    "    delta[:,0] = pi + B[obs[0],:]\n",
    "    for t in range(1,T):\n",
    "        for j in range(Q):\n",
    "            delta[j,t] = np.max(delta[:,t-1] + A[:,j]) + B[obs[t],j]\n",
    "            psi[j,t] = np.argmax(delta[:,t-1] + A[:,j])\n",
    "    q[T-1] = np.argmax(delta[:,T-1])\n",
    "    for t in range(T-2,-1,-1):\n",
    "        q[t] = psi[int(q[t+1]),t+1]\n",
    "    return q"
   ]
  },
  {
   "cell_type": "code",
   "execution_count": 156,
   "metadata": {},
   "outputs": [],
   "source": [
    "q = []\n",
    "for mail in mails:\n",
    "    q.append(Viterbi(mail, A, B, pi))"
   ]
  },
  {
   "cell_type": "code",
   "execution_count": 175,
   "metadata": {},
   "outputs": [],
   "source": [
    "def visualize_segmentation(mail_filename, visualized_mail_filename, path):\n",
    "\t## @parameter mail_filename : Path to the mail on wich we try the algorithm.\n",
    "\t## @parameter visualized_mail_filename : The path on which we write the mail with the v \t\n",
    "\t# ## @parameter path : The sequence of 0 and 1 that the Viterbi algorithm returns.\n",
    "    ## return: True if the header corresponds to the\n",
    "\ti=0\n",
    "\twhile path[i] == 0:\n",
    "\t    i+=1\n",
    "\tvisu = open(visualized_mail_filename, 'w') \n",
    "\tif(mail_filename.endswith(\".dat\")):\n",
    "\t\tmail_filename = mail_filename[:-4] + \".txt\" \n",
    "\tmail = open(mail_filename, 'r', encoding='utf-8', errors='replace')\n",
    "\theader = mail.read(i)\n",
    "\tvisu.write(header) \n",
    "\tvisu.write(\"\\n===================== cut here\\n\") \n",
    "\tvisu.write(mail.read(int(path.sum())))\n",
    "\tvisu.close() \n",
    "\tmail.close() \n",
    "\treturn i"
   ]
  },
  {
   "cell_type": "code",
   "execution_count": 177,
   "metadata": {},
   "outputs": [
    {
     "name": "stdout",
     "output_type": "stream",
     "text": [
      "File mail1_viterbi.txt has been createdcut at index 2735\n",
      "File mail2_viterbi.txt has been createdcut at index 2445\n",
      "File mail3_viterbi.txt has been createdcut at index 2263\n",
      "File mail4_viterbi.txt has been createdcut at index 1914\n",
      "File mail5_viterbi.txt has been createdcut at index 2302\n",
      "File mail6_viterbi.txt has been createdcut at index 2436\n",
      "File mail7_viterbi.txt has been createdcut at index 2555\n",
      "File mail8_viterbi.txt has been createdcut at index 2305\n",
      "File mail9_viterbi.txt has been createdcut at index 2540\n",
      "File mail10_viterbi.txt has been createdcut at index 1886\n",
      "File mail11_viterbi.txt has been createdcut at index 1776\n",
      "File mail12_viterbi.txt has been createdcut at index 1952\n",
      "File mail13_viterbi.txt has been createdcut at index 2304\n",
      "File mail14_viterbi.txt has been createdcut at index 3539\n",
      "File mail15_viterbi.txt has been createdcut at index 2183\n",
      "File mail16_viterbi.txt has been createdcut at index 1971\n",
      "File mail17_viterbi.txt has been createdcut at index 2282\n",
      "File mail18_viterbi.txt has been createdcut at index 2367\n",
      "File mail19_viterbi.txt has been createdcut at index 2101\n",
      "File mail20_viterbi.txt has been createdcut at index 1840\n",
      "File mail21_viterbi.txt has been createdcut at index 2103\n",
      "File mail22_viterbi.txt has been createdcut at index 2234\n",
      "File mail23_viterbi.txt has been createdcut at index 2168\n",
      "File mail24_viterbi.txt has been createdcut at index 2560\n",
      "File mail25_viterbi.txt has been createdcut at index 2319\n",
      "File mail26_viterbi.txt has been createdcut at index 2027\n",
      "File mail27_viterbi.txt has been createdcut at index 1771\n",
      "File mail28_viterbi.txt has been createdcut at index 2225\n",
      "File mail29_viterbi.txt has been createdcut at index 2344\n",
      "File mail30_viterbi.txt has been createdcut at index 2173\n"
     ]
    }
   ],
   "source": [
    "import os\n",
    "if not os.path.exists('result'):\n",
    "    os.makedirs('result')\n",
    "\n",
    "for i in range(30):\n",
    "   j = visualize_segmentation('dat/mail{}.dat'.format(i+1), 'result/mail{}_viterbi.txt'.format(i+1), q[i])\n",
    "   print(\"File mail{}_viterbi.txt has been created\".format(i+1)+\"cut at index {}\".format(j))"
   ]
  },
  {
   "cell_type": "markdown",
   "metadata": {},
   "source": [
    "### **Question 4** Print the track and present and discuss the results obtained on mail11.txt to mail30.txt.\n",
    "\n",
    "We are going to take as example the mail11.txt and mail30.txt files.\n",
    "\n",
    "- For email 11, the segmentation is done at the 2850th character. If we look at the real email, we can see that the header ends at the 2851th character, so the segmentation is almost correct.\n",
    "\n",
    "- For email 30, the segmentation is done at the 2172th character. If we look at the real email, we can see that the header ends at the 2250th character. Even if the segmentation is not perfect, it is still very close to the real value.\n"
   ]
  },
  {
   "cell_type": "markdown",
   "metadata": {},
   "source": [
    "### **Question 5** How would you model the problem if you had to segment the mails in more than two parts (for example : header, body, signature)? Draw a diagram of the corresponding Hidden Markov model and give an example of A matrix that would be suitable in this case.\n",
    "\n",
    "Let's take the header, body and signature as the three states of the model. The transition matrix $A$ would be:\n",
    "\n",
    "$$A = \\begin{pmatrix} a_{11} & a_{12} & a_{13} \\\\ 0 & a_{22} & a_{23} \\\\ 0 & 0 & 1 \\end{pmatrix}$$\n",
    "\n",
    "As we can see, it is impossible to move from the body to the header or the signature, and it is impossible to move from the signature to the header or the body.\n",
    "The value of $a_{13}$ would be non-zero if we want to allow the possibility of moving from the header to the signature, otherwise it would be 0.\n",
    "\n",
    "The initial probabilities vector $\\pi$ would be:\n",
    "\n",
    "$$\\pi = \\begin{bmatrix} 1 \\\\ 0 \\\\ 0 \\end{bmatrix}$$\n",
    "\n",
    "The emission matrix $B$ would be a $256 \\times 3$ matrix, because we have 3 states and 256 possible observations.\n"
   ]
  }
 ],
 "metadata": {
  "kernelspec": {
   "display_name": "Python 3",
   "language": "python",
   "name": "python3"
  },
  "language_info": {
   "codemirror_mode": {
    "name": "ipython",
    "version": 3
   },
   "file_extension": ".py",
   "mimetype": "text/x-python",
   "name": "python",
   "nbconvert_exporter": "python",
   "pygments_lexer": "ipython3",
   "version": "3.12.6"
  }
 },
 "nbformat": 4,
 "nbformat_minor": 2
}
